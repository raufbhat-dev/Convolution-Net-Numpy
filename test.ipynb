{
 "cells": [
  {
   "cell_type": "code",
   "execution_count": 799,
   "metadata": {},
   "outputs": [],
   "source": [
    "import numpy as np\n",
    "import importlib\n",
    "import sklearn.datasets\n",
    "\n",
    "from neuralnetnumpy.Optimiser import GradientDescent, AdaptiveLearningRate\n",
    "from neuralnetnumpy import loss, regularisation, neuralnet, layer\n",
    "from conv2dnumpy  import conv2d, pooling\n",
    "\n",
    "import utility\n",
    "\n",
    "#reload modules\n",
    "Layer = importlib.reload(layer)\n",
    "Conv2D = importlib.reload(conv2d)\n",
    "Pooling = importlib.reload(pooling)\n",
    "NeuralNet = importlib.reload(neuralnet)\n",
    "GradientDescent = importlib.reload(GradientDescent)\n",
    "AdaptiveLearningRate = importlib.reload(AdaptiveLearningRate)\n",
    "Loss = importlib.reload(loss)\n",
    "Regularisation = importlib.reload(regularisation)\n",
    "Utility = importlib.reload(utility)"
   ]
  },
  {
   "cell_type": "code",
   "execution_count": 800,
   "metadata": {},
   "outputs": [],
   "source": [
    "#optimiser\n",
    "learning_rate = 0.01\n",
    "optimiser_method = GradientDescent.StochasticGradientDescent(learning_rate)\n",
    "#optimiser_method = GradientDescent.Momentum(learning_rate,beta=0.9)\n",
    "#optimiser_method = AdaptiveLearningRate.AdaGrad(learning_rate)\n",
    "#optimiser_method = AdaptiveLearningRate.RMSprop(learning_rate,beta=0.9)"
   ]
  },
  {
   "cell_type": "code",
   "execution_count": 801,
   "metadata": {},
   "outputs": [],
   "source": [
    "#Regularisation\n",
    "gamma = 0.05\n",
    "regularisation_method = Regularisation.L2(gamma)"
   ]
  },
  {
   "cell_type": "code",
   "execution_count": 802,
   "metadata": {},
   "outputs": [],
   "source": [
    "#loss\n",
    "clip_grad = False\n",
    "norm_grad = False\n",
    "#loss_method = Loss.MeanSquared(clip_grad, norm_grad)\n",
    "loss_method = Loss.BinaryCrossEntropy(clip_grad, norm_grad)"
   ]
  },
  {
   "cell_type": "code",
   "execution_count": 803,
   "metadata": {},
   "outputs": [],
   "source": [
    "#hyper-parameters\n",
    "epoch = 10\n",
    "batch_size = 1\n",
    "mode = 'train'\n",
    "\n",
    "network_arch = [{'layer_type_category':'Convolution', 'layer_type': 'input','input_size':image.shape ,'kernel_size':(9,9), 'kernel_count':10, 'stride':9, 'padding':'valid', 'activation':'Tanh'},\n",
    "                {'layer_type_category':'Pooling', 'layer_type': 'input' ,'frame_size':(9,9), 'stride':2, 'pooling_type':'average'},\n",
    "                {'layer_type_category':'Convolution', 'layer_type':'hidden', 'kernel_size':(7,7), 'kernel_count':10, 'stride':7, 'padding':'valid', 'activation':'Tanh'},\n",
    "                {'layer_type_category':'Pooling', 'layer_type':'hidden', 'frame_size':(2,2), 'stride':2, 'pooling_type':'average'},\n",
    "                {'layer_type_category':'Dense', 'layer_type':'input', 'size':None},\n",
    "                {'layer_type_category':'Dense', 'layer_type':'hidden', 'size':100,'activation':'Sigmoid'},\n",
    "                {'layer_type_category':'Dense', 'layer_type':'output', 'size':10, 'activation':'Softmax'}\n",
    "]                "
   ]
  },
  {
   "cell_type": "code",
   "execution_count": 804,
   "metadata": {},
   "outputs": [],
   "source": [
    "class Conv2DNeuralNet(NeuralNet.NeuralNet):\n",
    "    def __init__(self, network_arch, loss_method, optimiser_method, epoch, batch_size, mode,  **kwargs):\n",
    "        super().__init__(network_arch, loss_method, optimiser_method, epoch, batch_size, mode, **kwargs)\n",
    "\n",
    "    def createNetwork(self):\n",
    "        for index, _layer in  enumerate(self.network_arch):\n",
    "            if _layer['layer_type_category'] == 'Dense':\n",
    "                if _layer.get('layer_type') != 'input':\n",
    "                    if _layer.get('dropout', 0):\n",
    "                        self.layers_list.append(Layer.Dropout(self.network_arch[index-1].get('size',2), _layer.get('size',2), _layer.get('activation','sigmoid'), _layer.get('layer_type_category'), _layer.get('layer_type'), _layer.get('dropout')))\n",
    "                    else:\n",
    "                        print('d',self.network_arch[index-1].get('size',2))\n",
    "                        self.layers_list.append(Layer.Layer(self.network_arch[index-1].get('size',2), _layer.get('size',2), _layer.get('activation','sigmoid') , _layer.get('layer_type_category'), _layer.get('layer_type')))\n",
    "                else:\n",
    "                    self.network_arch[index]['size'] = self.activation_map_width*self.activation_map_height*self.activation_map_depth\n",
    "                    print('inp',self.activation_map_width,self.activation_map_height,self.activation_map_depth)\n",
    "            elif _layer['layer_type_category'] == 'Convolution':\n",
    "                if _layer['layer_type'] == 'input':\n",
    "                    self.activation_map_width = int((_layer.get('input_size')[0] - _layer.get('kernel_size')[0])/ _layer.get('stride')) + 1\n",
    "                    self.activation_map_height = int((_layer.get('input_size')[1] - _layer.get('kernel_size')[1])/ _layer.get('stride')) + 1\n",
    "                    self.activation_map_depth = _layer.get('kernel_count')\n",
    "                    print(self.activation_map_width,self.activation_map_height,self.activation_map_depth)\n",
    "                else:\n",
    "                    self.activation_map_width = int((self.activation_map_width - _layer.get('kernel_size')[0])/ _layer.get('stride')) + 1\n",
    "                    self.activation_map_height = int((self.activation_map_height - _layer.get('kernel_size')[1])/ _layer.get('stride')) + 1\n",
    "                    self.activation_map_depth = _layer.get('kernel_count')\n",
    "                    print('conv',self.activation_map_width,self.activation_map_height,self.activation_map_depth)\n",
    "                self.layers_list.append(conv2d.Conv2D(_layer.get('kernel_size'), _layer.get('kernel_count','sigmoid') , _layer.get('stride',1), _layer.get('padding','valid'), _layer.get('activation'),_layer.get('layer_type_category'), _layer.get('layer_type')))\n",
    "            elif _layer['layer_type_category'] == 'Pooling':\n",
    "                self.layers_list.append(Pooling.Pooling(_layer.get('frame_size'), _layer.get('stride',1), _layer.get('layer_type_category'), _layer.get('layer_type'),  _layer.get('pooling_type')))\n",
    "                self.activation_map_width = int((self.activation_map_width - _layer.get('frame_size')[0])/ _layer.get('stride')) + 1\n",
    "                self.activation_map_height = int((self.activation_map_height - _layer.get('frame_size')[1])/ _layer.get('stride')) + 1\n",
    "                print('pool',self.activation_map_width,self.activation_map_height,self.activation_map_depth)\n",
    "\n",
    "    def forwardPass(self, inputs, outputs = None):\n",
    "        layer_out = inputs\n",
    "        drop_index = []\n",
    "        for _layer in self.layers_list:\n",
    "            if _layer.layer_type_category == 'Dense':\n",
    "                inputs = np.ndarray.flatten(inputs)\n",
    "                inputs = inputs.reshape(1,inputs.shape[0])\n",
    "            print(_layer.layer_type_category)\n",
    "            print(_layer.layer_type)\n",
    "            print('inputs',inputs.shape)\n",
    "            layer_out = _layer(inputs)\n",
    "            print('layer_out',layer_out.shape)\n",
    "            inputs = layer_out\n",
    "            if _layer.layer_type_category != 'Pooling':\n",
    "                self.regularisation.accumulateRegLoss(_layer.w)\n",
    "        if self.mode.lower() == 'train':\n",
    "            self.loss.getLoss(layer_out,outputs)\n",
    "        elif self.mode.lower() == 'test':\n",
    "            return layer_out\n",
    "        \n",
    "    def backProp(self, inputs):\n",
    "        upstream_gradient = self.loss.loss_derivative\n",
    "        for index, _layer in enumerate(reversed(self.layers_list)):\n",
    "            if _layer.layer_type_category == 'Dense':\n",
    "                if _layer.layer_type == 'output':\n",
    "                    if _layer.activation_method.activation == 'softmax':\n",
    "                        if inputs.shape[1]>1: \n",
    "                            upstream_gradient =  np.einsum('ij,ijk->ik', upstream_gradient, _layer.activation_derivative)\n",
    "                        else:\n",
    "                            upstream_gradient =  np.matmul(upstream_gradient, _layer.activation_derivative)\n",
    "                    else:\n",
    "                        upstream_gradient = np.multiply(upstream_gradient,_layer.activation_derivative)\n",
    "                    upstream_gradient_w =  np.matmul(self.layers_list[len(self.layers_list)-2].y_activation.T, upstream_gradient) \n",
    "                if _layer.layer_type == 'hidden':\n",
    "                    upstream_gradient =  np.matmul(upstream_gradient, self.layers_list[len(self.layers_list) -index].w.T)\n",
    "                    upstream_gradient = np.multiply(upstream_gradient,_layer.activation_derivative)\n",
    "                    if self.layers_list[len(self.layers_list)-index-2].layer_type_category == 'Pooling':\n",
    "                        dense_inputs  = np.ndarray.flatten(self.layers_list[len(self.layers_list) -index -2].y)\n",
    "                        dense_inputs = dense_inputs.reshape(1, dense_inputs.shape[0])\n",
    "                        upstream_gradient_w = np.matmul(dense_inputs.T, upstream_gradient)\n",
    "                    elif self.layers_list[len(self.layers_list)-index-2].layer_type_category == 'Convolution':\n",
    "                        dense_inputs  = np.ndarray.flatten(self.layers_list[len(self.layers_list) -index -2].y_activation)\n",
    "                        dense_inputs = dense_inputs.reshape(1, dense_inputs.shape[0])\n",
    "                        upstream_gradient_w = np.matmul(dense_inputs.T, upstream_gradient)\n",
    "                upstream_gradient_b = np.sum(upstream_gradient,axis=0)\n",
    "                self.optimiser(_layer, upstream_gradient_w, upstream_gradient_b)\n",
    "                if self.layers_list[len(self.layers_list) -index -2].layer_type_category not in ['Pooling','Convolution']:\n",
    "                    weights = _layer.getWeightBias()[0]\n",
    "                    if self.layers_list[len(self.layers_list) -index -2].dropout_layer:\n",
    "                        drop_index = self.layers_list[len(self.layers_list) -index -2].drop_index\n",
    "                        weights[drop_index,] = 0\n",
    "                    self.regularisation.regLossGradient(_layer, weights)\n",
    "            \n",
    "            elif _layer.layer_type_category == 'Pooling':\n",
    "                if _layer.pooling_type == 'average':\n",
    "                    upstream_gradient =  np.matmul(upstream_gradient, self.layers_list[len(self.layers_list) -index].w.T)\n",
    "                    upstream_gradient = upstream_gradient.reshape(_layer.y.shape)\n",
    "                    upstream_gradient = np.multiply(upstream_gradient, _layer.y)\n",
    "                    print('upstream_gradient',upstream_gradient.shape)\n",
    "                    local_gradient_top_bottom = (_layer.frame_width - _layer.stride + 1)/(_layer.frame_width*_layer.frame_height)\n",
    "                    local_gradient_left_right = (_layer.frame_height - _layer.stride + 1)/(_layer.frame_width*_layer.frame_height)\n",
    "                    local_gradient_vertices = 1/(_layer.frame_width*_layer.frame_height)\n",
    "                    local_gradient_centre = ((_layer.frame_width - _layer.stride + 1)*(_layer.frame_height - _layer.stride + 1))/(_layer.frame_width*_layer.frame_height)\n",
    "                    local_gradient = np.full((self.layers_list[len(self.layers_list) -index -2].y_activation.shape),local_gradient_centre)\n",
    "                    local_gradient[:,[1,-1]] = local_gradient_left_right\n",
    "                    local_gradient[[1,-1],:] = local_gradient_top_bottom\n",
    "                    local_gradient[0,0]=local_gradient[0,_layer.frame_width - index]=local_gradient[_layer.frame_width -1,0]=local_gradient[0,_layer.frame_height -1]=local_gradient[_layer.frame_height -1,0]=local_gradient_top_bottom\n",
    "                    print('local_gradient',local_gradient.shape)\n",
    "                    for row_index in range(0,)\n",
    "                    upstream_gradient = np.multiply(upstream_gradient, local_gradient)\n",
    "                    print('upstream_gradient2',upstream_gradient.shape)\n",
    "            #elif _layer.layer_type_category == 'Convolution':\n",
    "                \n",
    "        for _layer_ in self.layers_list:\n",
    "            w_delta, b_delta = _layer_.getLocalGradient()\n",
    "            _layer_.w = _layer_.w + w_delta\n",
    "            _layer_.b = _layer_.b + b_delta\n"
   ]
  },
  {
   "cell_type": "code",
   "execution_count": 805,
   "metadata": {},
   "outputs": [],
   "source": [
    "import matplotlib.pyplot as plt\n",
    "\n",
    "image = plt.imread('/mnt/ebs-1/rauf_bhat/git_repo_rauf/DataReduction/DSC02163.JPG', format=None)"
   ]
  },
  {
   "cell_type": "code",
   "execution_count": 806,
   "metadata": {},
   "outputs": [
    {
     "name": "stdout",
     "output_type": "stream",
     "text": [
      "120 213 10\n",
      "pool 56 103 10\n",
      "conv 8 14 10\n",
      "pool 4 7 10\n",
      "inp 4 7 10\n",
      "d 280\n",
      "d 100\n"
     ]
    }
   ],
   "source": [
    "np.random.seed(1)\n",
    "conv = Conv2DNeuralNet(network_arch, loss_method, optimiser_method, epoch, batch_size, mode)\n",
    "conv.createNetwork()"
   ]
  },
  {
   "cell_type": "code",
   "execution_count": 807,
   "metadata": {},
   "outputs": [
    {
     "name": "stdout",
     "output_type": "stream",
     "text": [
      "Convolution\n",
      "input\n",
      "inputs (1080, 1920, 3)\n",
      "layer_out (120, 213, 10)\n",
      "Pooling\n",
      "input\n",
      "inputs (120, 213, 10)\n",
      "layer_out (56, 103, 10)\n",
      "Convolution\n",
      "hidden\n",
      "inputs (56, 103, 10)\n",
      "layer_out (8, 14, 10)\n",
      "Pooling\n",
      "hidden\n",
      "inputs (8, 14, 10)\n",
      "layer_out (4, 7, 10)\n",
      "Dense\n",
      "hidden\n",
      "inputs (1, 280)\n",
      "layer_out (1, 100)\n",
      "Dense\n",
      "output\n",
      "inputs (1, 100)\n",
      "layer_out (1, 10)\n"
     ]
    }
   ],
   "source": [
    "conv.forwardPass(image, np.array([1]))"
   ]
  },
  {
   "cell_type": "code",
   "execution_count": 808,
   "metadata": {},
   "outputs": [
    {
     "name": "stdout",
     "output_type": "stream",
     "text": [
      "upstream_gradient (4, 7, 10)\n",
      "local_gradient (8, 14, 10)\n"
     ]
    },
    {
     "ename": "ValueError",
     "evalue": "operands could not be broadcast together with shapes (4,7,10) (8,14,10) ",
     "output_type": "error",
     "traceback": [
      "\u001b[0;31m---------------------------------------------------------------------------\u001b[0m",
      "\u001b[0;31mValueError\u001b[0m                                Traceback (most recent call last)",
      "\u001b[0;32m<ipython-input-808-37b7d9d618b2>\u001b[0m in \u001b[0;36m<module>\u001b[0;34m\u001b[0m\n\u001b[0;32m----> 1\u001b[0;31m \u001b[0mconv\u001b[0m\u001b[0;34m.\u001b[0m\u001b[0mbackProp\u001b[0m\u001b[0;34m(\u001b[0m\u001b[0mimage\u001b[0m\u001b[0;34m)\u001b[0m\u001b[0;34m\u001b[0m\u001b[0m\n\u001b[0m",
      "\u001b[0;32m<ipython-input-804-4b988d0c69eb>\u001b[0m in \u001b[0;36mbackProp\u001b[0;34m(self, inputs)\u001b[0m\n\u001b[1;32m    101\u001b[0m                     \u001b[0mlocal_gradient\u001b[0m\u001b[0;34m[\u001b[0m\u001b[0;36m0\u001b[0m\u001b[0;34m,\u001b[0m\u001b[0;36m0\u001b[0m\u001b[0;34m]\u001b[0m\u001b[0;34m=\u001b[0m\u001b[0mlocal_gradient\u001b[0m\u001b[0;34m[\u001b[0m\u001b[0;36m0\u001b[0m\u001b[0;34m,\u001b[0m\u001b[0m_layer\u001b[0m\u001b[0;34m.\u001b[0m\u001b[0mframe_width\u001b[0m \u001b[0;34m-\u001b[0m \u001b[0mindex\u001b[0m\u001b[0;34m]\u001b[0m\u001b[0;34m=\u001b[0m\u001b[0mlocal_gradient\u001b[0m\u001b[0;34m[\u001b[0m\u001b[0m_layer\u001b[0m\u001b[0;34m.\u001b[0m\u001b[0mframe_width\u001b[0m \u001b[0;34m-\u001b[0m\u001b[0;36m1\u001b[0m\u001b[0;34m,\u001b[0m\u001b[0;36m0\u001b[0m\u001b[0;34m]\u001b[0m\u001b[0;34m=\u001b[0m\u001b[0mlocal_gradient\u001b[0m\u001b[0;34m[\u001b[0m\u001b[0;36m0\u001b[0m\u001b[0;34m,\u001b[0m\u001b[0m_layer\u001b[0m\u001b[0;34m.\u001b[0m\u001b[0mframe_height\u001b[0m \u001b[0;34m-\u001b[0m\u001b[0;36m1\u001b[0m\u001b[0;34m]\u001b[0m\u001b[0;34m=\u001b[0m\u001b[0mlocal_gradient\u001b[0m\u001b[0;34m[\u001b[0m\u001b[0m_layer\u001b[0m\u001b[0;34m.\u001b[0m\u001b[0mframe_height\u001b[0m \u001b[0;34m-\u001b[0m\u001b[0;36m1\u001b[0m\u001b[0;34m,\u001b[0m\u001b[0;36m0\u001b[0m\u001b[0;34m]\u001b[0m\u001b[0;34m=\u001b[0m\u001b[0mlocal_gradient_top_bottom\u001b[0m\u001b[0;34m\u001b[0m\u001b[0m\n\u001b[1;32m    102\u001b[0m                     \u001b[0mprint\u001b[0m\u001b[0;34m(\u001b[0m\u001b[0;34m'local_gradient'\u001b[0m\u001b[0;34m,\u001b[0m\u001b[0mlocal_gradient\u001b[0m\u001b[0;34m.\u001b[0m\u001b[0mshape\u001b[0m\u001b[0;34m)\u001b[0m\u001b[0;34m\u001b[0m\u001b[0m\n\u001b[0;32m--> 103\u001b[0;31m                     \u001b[0mupstream_gradient\u001b[0m \u001b[0;34m=\u001b[0m \u001b[0mnp\u001b[0m\u001b[0;34m.\u001b[0m\u001b[0mmultiply\u001b[0m\u001b[0;34m(\u001b[0m\u001b[0mupstream_gradient\u001b[0m\u001b[0;34m,\u001b[0m \u001b[0mlocal_gradient\u001b[0m\u001b[0;34m)\u001b[0m\u001b[0;34m\u001b[0m\u001b[0m\n\u001b[0m\u001b[1;32m    104\u001b[0m                     \u001b[0mprint\u001b[0m\u001b[0;34m(\u001b[0m\u001b[0;34m'upstream_gradient2'\u001b[0m\u001b[0;34m,\u001b[0m\u001b[0mupstream_gradient\u001b[0m\u001b[0;34m.\u001b[0m\u001b[0mshape\u001b[0m\u001b[0;34m)\u001b[0m\u001b[0;34m\u001b[0m\u001b[0m\n\u001b[1;32m    105\u001b[0m             \u001b[0;31m#elif _layer.layer_type_category == 'Convolution':\u001b[0m\u001b[0;34m\u001b[0m\u001b[0;34m\u001b[0m\u001b[0m\n",
      "\u001b[0;31mValueError\u001b[0m: operands could not be broadcast together with shapes (4,7,10) (8,14,10) "
     ]
    }
   ],
   "source": [
    "conv.backProp(image)"
   ]
  },
  {
   "cell_type": "code",
   "execution_count": null,
   "metadata": {},
   "outputs": [],
   "source": [
    "row_end_index = 2\n",
    "col_end_index = 2"
   ]
  },
  {
   "cell_type": "code",
   "execution_count": null,
   "metadata": {},
   "outputs": [],
   "source": [
    "inputs[0:row_end_index,0:col_end_index,].shape"
   ]
  },
  {
   "cell_type": "code",
   "execution_count": null,
   "metadata": {},
   "outputs": [],
   "source": [
    "np.einsum('ijk,ilk->ilj',w, inputs[0:row_end_index,0:col_end_index,])"
   ]
  },
  {
   "cell_type": "code",
   "execution_count": null,
   "metadata": {
    "scrolled": true
   },
   "outputs": [],
   "source": [
    "inputs=np.array([[[1,2,3],[1,0,1],[9,10,11],[5,6,7]],[[7,8,9],[11,10,2],[1,0,1],[9,10,11]],[[1,2,4],[4,50,7],[1,0,1],[9,10,11]]])\n",
    "inputs[0].shape"
   ]
  },
  {
   "cell_type": "code",
   "execution_count": null,
   "metadata": {},
   "outputs": [],
   "source": [
    "# SKlearn Digit Data Set\n",
    "inputs, Y = sklearn.datasets.load_digits( n_class=10, return_X_y=True)\n",
    "\n",
    "inputs = Utility.dataScale(inputs)\n",
    "\n",
    "\n",
    "outputs = np.zeros((Y.size, Y.max()+1))\n",
    "outputs[np.arange(Y.size),Y] = 1\n",
    "\n",
    "epoch = 10\n",
    "batch_size = 128\n",
    "mode = 'train'\n",
    "np.random.seed(1)\n",
    "\n",
    "network_arch = [{'layer_type':'input', 'size':inputs.shape[-1]},\n",
    "                {'layer_type':'hidden', 'size':10, 'activation':'Tanh'},\n",
    "                {'layer_type':'output', 'size':outputs.shape[-1], 'activation':'Softmax'}]\n",
    "\n",
    "\n",
    "neural_net = NeuralNet.NeuralNet(network_arch, loss_method, optimiser_method, epoch, batch_size, mode, regularisation_method = regularisation_method)\n",
    "neural_net.createNetwork()\n",
    "neural_net.train(inputs, outputs)\n"
   ]
  }
 ],
 "metadata": {
  "kernelspec": {
   "display_name": "Python 3",
   "language": "python",
   "name": "python3"
  },
  "language_info": {
   "codemirror_mode": {
    "name": "ipython",
    "version": 3
   },
   "file_extension": ".py",
   "mimetype": "text/x-python",
   "name": "python",
   "nbconvert_exporter": "python",
   "pygments_lexer": "ipython3",
   "version": "3.5.2"
  }
 },
 "nbformat": 4,
 "nbformat_minor": 2
}
